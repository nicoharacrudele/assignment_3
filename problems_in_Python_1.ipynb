{
 "cells": [
  {
   "cell_type": "code",
   "execution_count": 19,
   "metadata": {
    "collapsed": false
   },
   "outputs": [
    {
     "name": "stdout",
     "output_type": "stream",
     "text": [
      "super\n",
      "ice\n",
      "us\n"
     ]
    }
   ],
   "source": [
    "#here I define each of the components of the word\n",
    "supcal = \"supercalifragilisticexpialidocious\"\n",
    "print (supcal[0:5])\n",
    "print (supcal[18:21])\n",
    "print (supcal[32:34])"
   ]
  },
  {
   "cell_type": "code",
   "execution_count": 72,
   "metadata": {
    "collapsed": false
   },
   "outputs": [
    {
     "name": "stdout",
     "output_type": "stream",
     "text": [
      "[2, 4, 6, 8, 10]\n"
     ]
    }
   ],
   "source": [
    "# here I define the list of numbers as list\n",
    "list = [2,4,6,8,10]\n",
    "print (list)"
   ]
  },
  {
   "cell_type": "code",
   "execution_count": 84,
   "metadata": {
    "collapsed": false
   },
   "outputs": [
    {
     "name": "stdout",
     "output_type": "stream",
     "text": [
      "6.0\n"
     ]
    }
   ],
   "source": [
    "# here I divide the sum of the list by the number of components in the list to calculate\n",
    "# the mean\n",
    "print ((2+4+6+8+10)/5)"
   ]
  },
  {
   "cell_type": "code",
   "execution_count": 109,
   "metadata": {
    "collapsed": false
   },
   "outputs": [
    {
     "name": "stdout",
     "output_type": "stream",
     "text": [
      "2.8284271247461903\n"
     ]
    }
   ],
   "source": [
    "#here I subtract the mean from each integer in the list, then square that number \n",
    "# integer, then add those squares, divide by the total number of components in the list\n",
    "\n",
    "print ((((2-6)*(2-6)+(4-6)*(4-6)+(6-6)*(6-6)+(8-6)*(8-6)+(10-6)*(10-6))/5)**.5)"
   ]
  },
  {
   "cell_type": "code",
   "execution_count": 119,
   "metadata": {
    "collapsed": false
   },
   "outputs": [],
   "source": [
    "# here is another way to caluculate the standard deviation, using mean as a variable\n",
    "SD = (((((list[0]-mean)**2)+((list[1]-mean)**2)+((list[2]-mean)**2)+((list[3]-mean)**2)+((list[4]-mean)**2))/5)**.5)"
   ]
  },
  {
   "cell_type": "code",
   "execution_count": 121,
   "metadata": {
    "collapsed": false
   },
   "outputs": [
    {
     "name": "stdout",
     "output_type": "stream",
     "text": [
      "2.8284271247461903\n"
     ]
    }
   ],
   "source": [
    "print (SD)"
   ]
  },
  {
   "cell_type": "code",
   "execution_count": 122,
   "metadata": {
    "collapsed": false
   },
   "outputs": [
    {
     "name": "stdout",
     "output_type": "stream",
     "text": [
      "1.2649110640673518\n"
     ]
    }
   ],
   "source": [
    "# here I calculate the Standard Error\n",
    "print (SD/(5**.5))"
   ]
  },
  {
   "cell_type": "code",
   "execution_count": 133,
   "metadata": {
    "collapsed": false
   },
   "outputs": [
    {
     "name": "stdout",
     "output_type": "stream",
     "text": [
      "Nico Crudele\n"
     ]
    }
   ],
   "source": [
    "firstname =\"Nico\"\n",
    "lastname =\" Crudele\"\n",
    "print(firstname+lastname)"
   ]
  },
  {
   "cell_type": "code",
   "execution_count": null,
   "metadata": {
    "collapsed": true
   },
   "outputs": [],
   "source": []
  }
 ],
 "metadata": {
  "kernelspec": {
   "display_name": "Python 3",
   "language": "python",
   "name": "python3"
  },
  "language_info": {
   "codemirror_mode": {
    "name": "ipython",
    "version": 3
   },
   "file_extension": ".py",
   "mimetype": "text/x-python",
   "name": "python",
   "nbconvert_exporter": "python",
   "pygments_lexer": "ipython3",
   "version": "3.4.3"
  }
 },
 "nbformat": 4,
 "nbformat_minor": 0
}
